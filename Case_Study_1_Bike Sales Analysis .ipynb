{
 "cells": [
  {
   "cell_type": "markdown",
   "id": "3ec4795e-7533-4fc9-b9bd-14469ac19652",
   "metadata": {},
   "source": [
    "## Case Study: Bike Sales Analysis using Python"
   ]
  },
  {
   "cell_type": "code",
   "execution_count": null,
   "id": "aea078b9-3cbe-4b05-a05f-d70416d63e43",
   "metadata": {},
   "outputs": [],
   "source": []
  },
  {
   "cell_type": "code",
   "execution_count": 58,
   "id": "b4e5673a-b884-406c-b91b-421ed371d9f2",
   "metadata": {},
   "outputs": [],
   "source": [
    "import pandas as pd\n",
    "import numpy as np\n",
    "# import openpyxl"
   ]
  },
  {
   "cell_type": "code",
   "execution_count": null,
   "id": "994e3700-5e56-4339-ad50-33b1b66162c1",
   "metadata": {},
   "outputs": [],
   "source": []
  },
  {
   "cell_type": "raw",
   "id": "72369ed5-0eaf-4780-8d5c-c35a7693ed6c",
   "metadata": {},
   "source": [
    "The dataset was downloaded from Kaggle and i wanted to test my python skills. the dataset consists of 18 Columns and 113,036 rows. This analysis aims to answer the follwing questions;\n",
    "\n",
    "1. what is the age distribution of the customers?\n",
    "2. what is the most profitable year?\n",
    "3. what is the most profitable month?\n",
    "4. which Gender has the most orders?\n",
    "5. which country/state generates the highest revenue?\n",
    "6. is there any correlation between the customer’s age and revenue?\n",
    "7. which category/subcategory generates the most profit?"
   ]
  },
  {
   "cell_type": "code",
   "execution_count": 59,
   "id": "5b580d3d-b0da-46db-acab-d6c288a4f1d9",
   "metadata": {},
   "outputs": [],
   "source": [
    "bikes_data = pd.read_csv('bike data.csv')"
   ]
  },
  {
   "cell_type": "code",
   "execution_count": 60,
   "id": "7cf0a8f7-883d-43a6-a764-2fe2dd5c57fa",
   "metadata": {},
   "outputs": [
    {
     "data": {
      "text/html": [
       "<div>\n",
       "<style scoped>\n",
       "    .dataframe tbody tr th:only-of-type {\n",
       "        vertical-align: middle;\n",
       "    }\n",
       "\n",
       "    .dataframe tbody tr th {\n",
       "        vertical-align: top;\n",
       "    }\n",
       "\n",
       "    .dataframe thead th {\n",
       "        text-align: right;\n",
       "    }\n",
       "</style>\n",
       "<table border=\"1\" class=\"dataframe\">\n",
       "  <thead>\n",
       "    <tr style=\"text-align: right;\">\n",
       "      <th></th>\n",
       "      <th>Date</th>\n",
       "      <th>year</th>\n",
       "      <th>Customer ID</th>\n",
       "      <th>Customer Age</th>\n",
       "      <th>Age Group</th>\n",
       "      <th>Customer Gender</th>\n",
       "      <th>Country</th>\n",
       "      <th>State</th>\n",
       "      <th>Product Category</th>\n",
       "      <th>Sub Category</th>\n",
       "      <th>Product</th>\n",
       "      <th>Frame Size</th>\n",
       "      <th>Order Quantity</th>\n",
       "      <th>Unit Cost</th>\n",
       "      <th>Unit Price</th>\n",
       "      <th>Cost</th>\n",
       "      <th>Revenue</th>\n",
       "      <th>Profit</th>\n",
       "    </tr>\n",
       "  </thead>\n",
       "  <tbody>\n",
       "    <tr>\n",
       "      <th>0</th>\n",
       "      <td>11/26/2013</td>\n",
       "      <td>2013</td>\n",
       "      <td>11019</td>\n",
       "      <td>19</td>\n",
       "      <td>Youth (&lt;25)</td>\n",
       "      <td>M</td>\n",
       "      <td>Canada</td>\n",
       "      <td>British Columbia</td>\n",
       "      <td>Accessories</td>\n",
       "      <td>Bike Racks</td>\n",
       "      <td>Hitch Rack - 4-Bike</td>\n",
       "      <td>NaN</td>\n",
       "      <td>8</td>\n",
       "      <td>45</td>\n",
       "      <td>120</td>\n",
       "      <td>360</td>\n",
       "      <td>950</td>\n",
       "      <td>590</td>\n",
       "    </tr>\n",
       "    <tr>\n",
       "      <th>1</th>\n",
       "      <td>11/26/2015</td>\n",
       "      <td>2015</td>\n",
       "      <td>11019</td>\n",
       "      <td>19</td>\n",
       "      <td>Youth (&lt;25)</td>\n",
       "      <td>M</td>\n",
       "      <td>Canada</td>\n",
       "      <td>British Columbia</td>\n",
       "      <td>Accessories</td>\n",
       "      <td>Bike Racks</td>\n",
       "      <td>Hitch Rack - 4-Bike</td>\n",
       "      <td>NaN</td>\n",
       "      <td>8</td>\n",
       "      <td>45</td>\n",
       "      <td>120</td>\n",
       "      <td>360</td>\n",
       "      <td>950</td>\n",
       "      <td>590</td>\n",
       "    </tr>\n",
       "    <tr>\n",
       "      <th>2</th>\n",
       "      <td>3/23/2014</td>\n",
       "      <td>2014</td>\n",
       "      <td>11039</td>\n",
       "      <td>49</td>\n",
       "      <td>Adults (35-64)</td>\n",
       "      <td>M</td>\n",
       "      <td>Australia</td>\n",
       "      <td>New South Wales</td>\n",
       "      <td>Accessories</td>\n",
       "      <td>Bike Racks</td>\n",
       "      <td>Hitch Rack - 4-Bike</td>\n",
       "      <td>NaN</td>\n",
       "      <td>23</td>\n",
       "      <td>45</td>\n",
       "      <td>120</td>\n",
       "      <td>1035</td>\n",
       "      <td>2401</td>\n",
       "      <td>1366</td>\n",
       "    </tr>\n",
       "    <tr>\n",
       "      <th>3</th>\n",
       "      <td>3/23/2016</td>\n",
       "      <td>2016</td>\n",
       "      <td>11039</td>\n",
       "      <td>49</td>\n",
       "      <td>Adults (35-64)</td>\n",
       "      <td>M</td>\n",
       "      <td>Australia</td>\n",
       "      <td>New South Wales</td>\n",
       "      <td>Accessories</td>\n",
       "      <td>Bike Racks</td>\n",
       "      <td>Hitch Rack - 4-Bike</td>\n",
       "      <td>NaN</td>\n",
       "      <td>20</td>\n",
       "      <td>45</td>\n",
       "      <td>120</td>\n",
       "      <td>900</td>\n",
       "      <td>2088</td>\n",
       "      <td>1188</td>\n",
       "    </tr>\n",
       "    <tr>\n",
       "      <th>4</th>\n",
       "      <td>5/15/2014</td>\n",
       "      <td>2014</td>\n",
       "      <td>11046</td>\n",
       "      <td>47</td>\n",
       "      <td>Adults (35-64)</td>\n",
       "      <td>F</td>\n",
       "      <td>Australia</td>\n",
       "      <td>New South Wales</td>\n",
       "      <td>Accessories</td>\n",
       "      <td>Bike Racks</td>\n",
       "      <td>Hitch Rack - 4-Bike</td>\n",
       "      <td>NaN</td>\n",
       "      <td>4</td>\n",
       "      <td>45</td>\n",
       "      <td>120</td>\n",
       "      <td>180</td>\n",
       "      <td>418</td>\n",
       "      <td>238</td>\n",
       "    </tr>\n",
       "  </tbody>\n",
       "</table>\n",
       "</div>"
      ],
      "text/plain": [
       "         Date  year  Customer ID  Customer Age       Age Group  \\\n",
       "0  11/26/2013  2013        11019            19     Youth (<25)   \n",
       "1  11/26/2015  2015        11019            19     Youth (<25)   \n",
       "2   3/23/2014  2014        11039            49  Adults (35-64)   \n",
       "3   3/23/2016  2016        11039            49  Adults (35-64)   \n",
       "4   5/15/2014  2014        11046            47  Adults (35-64)   \n",
       "\n",
       "  Customer Gender    Country             State Product Category Sub Category  \\\n",
       "0               M     Canada  British Columbia      Accessories   Bike Racks   \n",
       "1               M     Canada  British Columbia      Accessories   Bike Racks   \n",
       "2               M  Australia   New South Wales      Accessories   Bike Racks   \n",
       "3               M  Australia   New South Wales      Accessories   Bike Racks   \n",
       "4               F  Australia   New South Wales      Accessories   Bike Racks   \n",
       "\n",
       "               Product  Frame Size  Order Quantity  Unit Cost  Unit Price  \\\n",
       "0  Hitch Rack - 4-Bike         NaN               8         45         120   \n",
       "1  Hitch Rack - 4-Bike         NaN               8         45         120   \n",
       "2  Hitch Rack - 4-Bike         NaN              23         45         120   \n",
       "3  Hitch Rack - 4-Bike         NaN              20         45         120   \n",
       "4  Hitch Rack - 4-Bike         NaN               4         45         120   \n",
       "\n",
       "   Cost  Revenue  Profit  \n",
       "0   360      950     590  \n",
       "1   360      950     590  \n",
       "2  1035     2401    1366  \n",
       "3   900     2088    1188  \n",
       "4   180      418     238  "
      ]
     },
     "execution_count": 60,
     "metadata": {},
     "output_type": "execute_result"
    }
   ],
   "source": [
    "bikes_data.head()"
   ]
  },
  {
   "cell_type": "code",
   "execution_count": 61,
   "id": "f1834a81-b833-43ff-bd27-6c0e48778774",
   "metadata": {},
   "outputs": [],
   "source": [
    "copy_bikes_data= bikes_data"
   ]
  },
  {
   "cell_type": "markdown",
   "id": "ba08ec8d-ecd7-4f7b-a745-b800da4dde7c",
   "metadata": {},
   "source": [
    "## Data Wrangling"
   ]
  },
  {
   "cell_type": "raw",
   "id": "0fbf745b-465f-4c0d-b7b5-91bf6fe0658f",
   "metadata": {},
   "source": [
    "1. Data Gathering -- Collected by csv file\n",
    "2. Data Assessing\n",
    "3. Data Cleaning "
   ]
  },
  {
   "cell_type": "markdown",
   "id": "2345ccbc-6457-408c-9e72-5e8cf88983cc",
   "metadata": {},
   "source": [
    "#### Data Assessing"
   ]
  },
  {
   "cell_type": "markdown",
   "id": "c6232944-a01a-46c3-81a1-118d6ed7f1a7",
   "metadata": {},
   "source": [
    "##### SUMMARY OF DATA\n",
    "The dataset contains sales data for bikes and related accessories across different countries. It also includes information about customers and their age groups."
   ]
  },
  {
   "cell_type": "markdown",
   "id": "65607461-26dc-4a04-830a-4ea7f6eb0203",
   "metadata": {},
   "source": [
    "#### Column Description :\n",
    "1. Date : Date of item purchased\n",
    "2. year :\n",
    "3. Customer ID : Customer ID of customer who puchased the items\n",
    "4. Customer Age : \n",
    "5. Age Group: Customer are classified into four age group Youth(<25), Young Adults(25-34), Adults(35-64) and Seniors(>64)\n",
    "6. Customer Gender : \n",
    "7. Country: Country of Customer from where he/she belongs.\n",
    "8. State : Customer State\n",
    "9. Product Category: Highlevel Classification of product majorly 3 types of product are available such as Bikes,Clothing & Accessories.\n",
    "10. Sub Category: To classify products from a general Product Category to more specific subcategories.\n",
    "11. Product: Name of Product\n",
    "12. Frame Size: The right bicycle frame size depends on your height and leg length.\n",
    "13. Order Quantity: No. quantity ordered\n",
    "14. Unit Cost: Cost of each units\n",
    "15. Unit Price: Price of each units\n",
    "16. Cost: Total cost ( quantity*unit_cost)\n",
    "17. Revenue:\n",
    "18. Profit:"
   ]
  },
  {
   "cell_type": "markdown",
   "id": "ca955b99-2001-45d7-abd7-b8061e7e7c46",
   "metadata": {},
   "source": [
    "#### Issues with dataset\n",
    "\n",
    "### Dirty DATA ( Data with quality Issue):\n",
    "1. The DATE field contains inconsistent formats: MM-DD-YYYY and MM-DD-YY. -- Consistency Issue\n",
    "2. Column names contains the spaces.(Against the standard) -- Consistency Issue\n",
    "3. Revenue = Unit_Price * Order_Quantity . But Revenue value not as per the formula (Need to find the reason).-- Accuracy Issue\n",
    "4. Date field datatype is object but it should be date type. -- Consistency Issue\n",
    "5. Frame Size has NaN value. 87054 -- null values -- Completeness\n",
    "6. 1000 rows duplicate found. -- accuracy Issue\n",
    "\n",
    "### Messy Data (Data with Structure Issue):\n",
    "1. Age group column should split into 3 cloumn Age_group , Min_age_grp and Max_age_grp."
   ]
  },
  {
   "cell_type": "code",
   "execution_count": 62,
   "id": "3db8f1f6-0a88-424b-a646-d1189d60ab60",
   "metadata": {},
   "outputs": [],
   "source": [
    "# Mannual Assessment\n",
    "bikes_data.to_excel('bikes_sales.xlsx')"
   ]
  },
  {
   "cell_type": "markdown",
   "id": "d2ca88fc-078b-43d0-bde8-e95d3e078df4",
   "metadata": {},
   "source": [
    "##### Programmatic Assessment"
   ]
  },
  {
   "cell_type": "code",
   "execution_count": 63,
   "id": "3028a46f-55d7-44d0-a3d3-5fc1552dccf9",
   "metadata": {},
   "outputs": [
    {
     "name": "stdout",
     "output_type": "stream",
     "text": [
      "Index(['Date', 'year', 'Customer ID', 'Customer Age', 'Age Group',\n",
      "       'Customer Gender', 'Country', 'State', 'Product Category',\n",
      "       'Sub Category', 'Product', 'Frame Size', 'Order Quantity', 'Unit Cost',\n",
      "       'Unit Price', 'Cost', 'Revenue', 'Profit'],\n",
      "      dtype='object')\n",
      "(113036, 18)\n",
      "2034648\n",
      "RangeIndex(start=0, stop=113036, step=1)\n",
      "18\n"
     ]
    }
   ],
   "source": [
    "# Check the basic information about the data\n",
    " \n",
    "print(bikes_data.columns)\n",
    "print(bikes_data.shape)\n",
    "print(bikes_data.size) \n",
    "print(bikes_data.index)\n",
    "print(bikes_data.columns.size)"
   ]
  },
  {
   "cell_type": "code",
   "execution_count": 64,
   "id": "07b3eddb-5170-4554-8282-5480ea5ebfa3",
   "metadata": {},
   "outputs": [
    {
     "name": "stdout",
     "output_type": "stream",
     "text": [
      "<class 'pandas.core.frame.DataFrame'>\n",
      "RangeIndex: 113036 entries, 0 to 113035\n",
      "Data columns (total 18 columns):\n",
      " #   Column            Non-Null Count   Dtype  \n",
      "---  ------            --------------   -----  \n",
      " 0   Date              113036 non-null  object \n",
      " 1   year              113036 non-null  int64  \n",
      " 2   Customer ID       113036 non-null  int64  \n",
      " 3   Customer Age      113036 non-null  int64  \n",
      " 4   Age Group         113036 non-null  object \n",
      " 5   Customer Gender   113036 non-null  object \n",
      " 6   Country           113036 non-null  object \n",
      " 7   State             113036 non-null  object \n",
      " 8   Product Category  113036 non-null  object \n",
      " 9   Sub Category      113036 non-null  object \n",
      " 10  Product           113036 non-null  object \n",
      " 11  Frame Size        25982 non-null   float64\n",
      " 12  Order Quantity    113036 non-null  int64  \n",
      " 13  Unit Cost         113036 non-null  int64  \n",
      " 14  Unit Price        113036 non-null  int64  \n",
      " 15  Cost              113036 non-null  int64  \n",
      " 16  Revenue           113036 non-null  int64  \n",
      " 17  Profit            113036 non-null  int64  \n",
      "dtypes: float64(1), int64(9), object(8)\n",
      "memory usage: 15.5+ MB\n"
     ]
    }
   ],
   "source": [
    "bikes_data.info()"
   ]
  },
  {
   "cell_type": "markdown",
   "id": "85811b8f-e3b7-454a-bb6d-37330596a213",
   "metadata": {},
   "source": [
    "### Concept\n",
    "##### Key Difference:\n",
    "1. Series.unique: Refers to the method itself (no computation performed).\n",
    "2. Series.unique(): Calls the method and returns the unique values (computation performed).\n"
   ]
  },
  {
   "cell_type": "code",
   "execution_count": 65,
   "id": "11d7b94c-1e91-4fef-92e6-2ffb72065bc4",
   "metadata": {},
   "outputs": [
    {
     "name": "stdout",
     "output_type": "stream",
     "text": [
      "[nan 38. 44. 48. 42. 46. 40. 52. 62. 58. 56. 60. 50. 54.]\n"
     ]
    },
    {
     "data": {
      "text/plain": [
       "numpy.ndarray"
      ]
     },
     "execution_count": 65,
     "metadata": {},
     "output_type": "execute_result"
    }
   ],
   "source": [
    "bikes_data['Date'].isnull().sum() # no null value\n",
    "bikes_data['Frame Size'].isnull().sum() # 87054 -- null values\n",
    "unique = bikes_data['Frame Size'].unique()\n",
    "print(unique)\n",
    "type(unique)"
   ]
  },
  {
   "cell_type": "markdown",
   "id": "e36da723-e9cc-4f6f-80f3-7bf60902a9ec",
   "metadata": {},
   "source": [
    "### Concept\n",
    "#### Explanation of duplicated():\n",
    "##### By default, it checks for duplicate rows and marks all except the first occurrence as True.\n",
    "1. keep='first': (Default) Marks all duplicates after the first occurrence as True.\n",
    "2. keep='last': Marks all duplicates except the last occurrence as True.\n",
    "3. keep=False: Marks all occurrences of duplicates as True.\n",
    "\n",
    "Note - s[s.str.len()<2]"
   ]
  },
  {
   "cell_type": "code",
   "execution_count": 66,
   "id": "2b761089-e72c-472c-abcc-e5105c2172f5",
   "metadata": {},
   "outputs": [
    {
     "data": {
      "text/html": [
       "<div>\n",
       "<style scoped>\n",
       "    .dataframe tbody tr th:only-of-type {\n",
       "        vertical-align: middle;\n",
       "    }\n",
       "\n",
       "    .dataframe tbody tr th {\n",
       "        vertical-align: top;\n",
       "    }\n",
       "\n",
       "    .dataframe thead th {\n",
       "        text-align: right;\n",
       "    }\n",
       "</style>\n",
       "<table border=\"1\" class=\"dataframe\">\n",
       "  <thead>\n",
       "    <tr style=\"text-align: right;\">\n",
       "      <th></th>\n",
       "      <th>Date</th>\n",
       "      <th>year</th>\n",
       "      <th>Customer ID</th>\n",
       "      <th>Customer Age</th>\n",
       "      <th>Age Group</th>\n",
       "      <th>Customer Gender</th>\n",
       "      <th>Country</th>\n",
       "      <th>State</th>\n",
       "      <th>Product Category</th>\n",
       "      <th>Sub Category</th>\n",
       "      <th>Product</th>\n",
       "      <th>Frame Size</th>\n",
       "      <th>Order Quantity</th>\n",
       "      <th>Unit Cost</th>\n",
       "      <th>Unit Price</th>\n",
       "      <th>Cost</th>\n",
       "      <th>Revenue</th>\n",
       "      <th>Profit</th>\n",
       "    </tr>\n",
       "  </thead>\n",
       "  <tbody>\n",
       "    <tr>\n",
       "      <th>1020</th>\n",
       "      <td>12/19/2013</td>\n",
       "      <td>2013</td>\n",
       "      <td>28931</td>\n",
       "      <td>22</td>\n",
       "      <td>Youth (&lt;25)</td>\n",
       "      <td>M</td>\n",
       "      <td>Australia</td>\n",
       "      <td>New South Wales</td>\n",
       "      <td>Accessories</td>\n",
       "      <td>Bike Stands</td>\n",
       "      <td>All-Purpose Bike Stand</td>\n",
       "      <td>NaN</td>\n",
       "      <td>9</td>\n",
       "      <td>59</td>\n",
       "      <td>159</td>\n",
       "      <td>531</td>\n",
       "      <td>1245</td>\n",
       "      <td>714</td>\n",
       "    </tr>\n",
       "    <tr>\n",
       "      <th>1021</th>\n",
       "      <td>12/19/2013</td>\n",
       "      <td>2013</td>\n",
       "      <td>28931</td>\n",
       "      <td>22</td>\n",
       "      <td>Youth (&lt;25)</td>\n",
       "      <td>M</td>\n",
       "      <td>Australia</td>\n",
       "      <td>New South Wales</td>\n",
       "      <td>Accessories</td>\n",
       "      <td>Bike Stands</td>\n",
       "      <td>All-Purpose Bike Stand</td>\n",
       "      <td>NaN</td>\n",
       "      <td>9</td>\n",
       "      <td>59</td>\n",
       "      <td>159</td>\n",
       "      <td>531</td>\n",
       "      <td>1245</td>\n",
       "      <td>714</td>\n",
       "    </tr>\n",
       "    <tr>\n",
       "      <th>1090</th>\n",
       "      <td>9/30/2015</td>\n",
       "      <td>2015</td>\n",
       "      <td>11068</td>\n",
       "      <td>42</td>\n",
       "      <td>Adults (35-64)</td>\n",
       "      <td>F</td>\n",
       "      <td>Australia</td>\n",
       "      <td>Victoria</td>\n",
       "      <td>Accessories</td>\n",
       "      <td>Bottles and Cages</td>\n",
       "      <td>Mountain Bottle Cage</td>\n",
       "      <td>NaN</td>\n",
       "      <td>5</td>\n",
       "      <td>4</td>\n",
       "      <td>10</td>\n",
       "      <td>20</td>\n",
       "      <td>40</td>\n",
       "      <td>20</td>\n",
       "    </tr>\n",
       "    <tr>\n",
       "      <th>1091</th>\n",
       "      <td>9/30/2015</td>\n",
       "      <td>2015</td>\n",
       "      <td>11068</td>\n",
       "      <td>42</td>\n",
       "      <td>Adults (35-64)</td>\n",
       "      <td>F</td>\n",
       "      <td>Australia</td>\n",
       "      <td>Victoria</td>\n",
       "      <td>Accessories</td>\n",
       "      <td>Bottles and Cages</td>\n",
       "      <td>Mountain Bottle Cage</td>\n",
       "      <td>NaN</td>\n",
       "      <td>5</td>\n",
       "      <td>4</td>\n",
       "      <td>10</td>\n",
       "      <td>20</td>\n",
       "      <td>40</td>\n",
       "      <td>20</td>\n",
       "    </tr>\n",
       "    <tr>\n",
       "      <th>1092</th>\n",
       "      <td>10/24/2013</td>\n",
       "      <td>2013</td>\n",
       "      <td>11068</td>\n",
       "      <td>42</td>\n",
       "      <td>Adults (35-64)</td>\n",
       "      <td>F</td>\n",
       "      <td>Australia</td>\n",
       "      <td>Victoria</td>\n",
       "      <td>Accessories</td>\n",
       "      <td>Bottles and Cages</td>\n",
       "      <td>Mountain Bottle Cage</td>\n",
       "      <td>NaN</td>\n",
       "      <td>2</td>\n",
       "      <td>4</td>\n",
       "      <td>10</td>\n",
       "      <td>8</td>\n",
       "      <td>16</td>\n",
       "      <td>8</td>\n",
       "    </tr>\n",
       "    <tr>\n",
       "      <th>...</th>\n",
       "      <td>...</td>\n",
       "      <td>...</td>\n",
       "      <td>...</td>\n",
       "      <td>...</td>\n",
       "      <td>...</td>\n",
       "      <td>...</td>\n",
       "      <td>...</td>\n",
       "      <td>...</td>\n",
       "      <td>...</td>\n",
       "      <td>...</td>\n",
       "      <td>...</td>\n",
       "      <td>...</td>\n",
       "      <td>...</td>\n",
       "      <td>...</td>\n",
       "      <td>...</td>\n",
       "      <td>...</td>\n",
       "      <td>...</td>\n",
       "      <td>...</td>\n",
       "    </tr>\n",
       "    <tr>\n",
       "      <th>111265</th>\n",
       "      <td>4/27/2014</td>\n",
       "      <td>2014</td>\n",
       "      <td>27295</td>\n",
       "      <td>31</td>\n",
       "      <td>Young Adults (25-34)</td>\n",
       "      <td>M</td>\n",
       "      <td>United States</td>\n",
       "      <td>Washington</td>\n",
       "      <td>Bikes</td>\n",
       "      <td>Touring Bikes</td>\n",
       "      <td>Touring-1000 Blue, 50</td>\n",
       "      <td>50.0</td>\n",
       "      <td>1</td>\n",
       "      <td>1482</td>\n",
       "      <td>2384</td>\n",
       "      <td>1482</td>\n",
       "      <td>1860</td>\n",
       "      <td>378</td>\n",
       "    </tr>\n",
       "    <tr>\n",
       "      <th>111952</th>\n",
       "      <td>9/20/2013</td>\n",
       "      <td>2013</td>\n",
       "      <td>29256</td>\n",
       "      <td>42</td>\n",
       "      <td>Adults (35-64)</td>\n",
       "      <td>M</td>\n",
       "      <td>Canada</td>\n",
       "      <td>British Columbia</td>\n",
       "      <td>Bikes</td>\n",
       "      <td>Touring Bikes</td>\n",
       "      <td>Touring-3000 Yellow, 44</td>\n",
       "      <td>44.0</td>\n",
       "      <td>1</td>\n",
       "      <td>461</td>\n",
       "      <td>742</td>\n",
       "      <td>461</td>\n",
       "      <td>735</td>\n",
       "      <td>274</td>\n",
       "    </tr>\n",
       "    <tr>\n",
       "      <th>111953</th>\n",
       "      <td>9/20/2013</td>\n",
       "      <td>2013</td>\n",
       "      <td>29256</td>\n",
       "      <td>42</td>\n",
       "      <td>Adults (35-64)</td>\n",
       "      <td>M</td>\n",
       "      <td>Canada</td>\n",
       "      <td>British Columbia</td>\n",
       "      <td>Bikes</td>\n",
       "      <td>Touring Bikes</td>\n",
       "      <td>Touring-3000 Yellow, 44</td>\n",
       "      <td>44.0</td>\n",
       "      <td>1</td>\n",
       "      <td>461</td>\n",
       "      <td>742</td>\n",
       "      <td>461</td>\n",
       "      <td>735</td>\n",
       "      <td>274</td>\n",
       "    </tr>\n",
       "    <tr>\n",
       "      <th>111954</th>\n",
       "      <td>9/20/2015</td>\n",
       "      <td>2015</td>\n",
       "      <td>29256</td>\n",
       "      <td>42</td>\n",
       "      <td>Adults (35-64)</td>\n",
       "      <td>M</td>\n",
       "      <td>Canada</td>\n",
       "      <td>British Columbia</td>\n",
       "      <td>Bikes</td>\n",
       "      <td>Touring Bikes</td>\n",
       "      <td>Touring-3000 Yellow, 44</td>\n",
       "      <td>44.0</td>\n",
       "      <td>1</td>\n",
       "      <td>461</td>\n",
       "      <td>742</td>\n",
       "      <td>461</td>\n",
       "      <td>735</td>\n",
       "      <td>274</td>\n",
       "    </tr>\n",
       "    <tr>\n",
       "      <th>111955</th>\n",
       "      <td>9/20/2015</td>\n",
       "      <td>2015</td>\n",
       "      <td>29256</td>\n",
       "      <td>42</td>\n",
       "      <td>Adults (35-64)</td>\n",
       "      <td>M</td>\n",
       "      <td>Canada</td>\n",
       "      <td>British Columbia</td>\n",
       "      <td>Bikes</td>\n",
       "      <td>Touring Bikes</td>\n",
       "      <td>Touring-3000 Yellow, 44</td>\n",
       "      <td>44.0</td>\n",
       "      <td>1</td>\n",
       "      <td>461</td>\n",
       "      <td>742</td>\n",
       "      <td>461</td>\n",
       "      <td>735</td>\n",
       "      <td>274</td>\n",
       "    </tr>\n",
       "  </tbody>\n",
       "</table>\n",
       "<p>1993 rows × 18 columns</p>\n",
       "</div>"
      ],
      "text/plain": [
       "              Date  year  Customer ID  Customer Age             Age Group  \\\n",
       "1020    12/19/2013  2013        28931            22           Youth (<25)   \n",
       "1021    12/19/2013  2013        28931            22           Youth (<25)   \n",
       "1090     9/30/2015  2015        11068            42        Adults (35-64)   \n",
       "1091     9/30/2015  2015        11068            42        Adults (35-64)   \n",
       "1092    10/24/2013  2013        11068            42        Adults (35-64)   \n",
       "...            ...   ...          ...           ...                   ...   \n",
       "111265   4/27/2014  2014        27295            31  Young Adults (25-34)   \n",
       "111952   9/20/2013  2013        29256            42        Adults (35-64)   \n",
       "111953   9/20/2013  2013        29256            42        Adults (35-64)   \n",
       "111954   9/20/2015  2015        29256            42        Adults (35-64)   \n",
       "111955   9/20/2015  2015        29256            42        Adults (35-64)   \n",
       "\n",
       "       Customer Gender        Country             State Product Category  \\\n",
       "1020                 M      Australia   New South Wales      Accessories   \n",
       "1021                 M      Australia   New South Wales      Accessories   \n",
       "1090                 F      Australia          Victoria      Accessories   \n",
       "1091                 F      Australia          Victoria      Accessories   \n",
       "1092                 F      Australia          Victoria      Accessories   \n",
       "...                ...            ...               ...              ...   \n",
       "111265               M  United States        Washington            Bikes   \n",
       "111952               M         Canada  British Columbia            Bikes   \n",
       "111953               M         Canada  British Columbia            Bikes   \n",
       "111954               M         Canada  British Columbia            Bikes   \n",
       "111955               M         Canada  British Columbia            Bikes   \n",
       "\n",
       "             Sub Category                  Product  Frame Size  \\\n",
       "1020          Bike Stands   All-Purpose Bike Stand         NaN   \n",
       "1021          Bike Stands   All-Purpose Bike Stand         NaN   \n",
       "1090    Bottles and Cages     Mountain Bottle Cage         NaN   \n",
       "1091    Bottles and Cages     Mountain Bottle Cage         NaN   \n",
       "1092    Bottles and Cages     Mountain Bottle Cage         NaN   \n",
       "...                   ...                      ...         ...   \n",
       "111265      Touring Bikes    Touring-1000 Blue, 50        50.0   \n",
       "111952      Touring Bikes  Touring-3000 Yellow, 44        44.0   \n",
       "111953      Touring Bikes  Touring-3000 Yellow, 44        44.0   \n",
       "111954      Touring Bikes  Touring-3000 Yellow, 44        44.0   \n",
       "111955      Touring Bikes  Touring-3000 Yellow, 44        44.0   \n",
       "\n",
       "        Order Quantity  Unit Cost  Unit Price  Cost  Revenue  Profit  \n",
       "1020                 9         59         159   531     1245     714  \n",
       "1021                 9         59         159   531     1245     714  \n",
       "1090                 5          4          10    20       40      20  \n",
       "1091                 5          4          10    20       40      20  \n",
       "1092                 2          4          10     8       16       8  \n",
       "...                ...        ...         ...   ...      ...     ...  \n",
       "111265               1       1482        2384  1482     1860     378  \n",
       "111952               1        461         742   461      735     274  \n",
       "111953               1        461         742   461      735     274  \n",
       "111954               1        461         742   461      735     274  \n",
       "111955               1        461         742   461      735     274  \n",
       "\n",
       "[1993 rows x 18 columns]"
      ]
     },
     "execution_count": 66,
     "metadata": {},
     "output_type": "execute_result"
    }
   ],
   "source": [
    "# Duplicate Check\n",
    "bikes_data[bikes_data.duplicated(keep=False)]\n",
    "# bikes_data[bikes_data['Customer ID'] ==28931].duplicated()\n",
    "# print()"
   ]
  },
  {
   "cell_type": "markdown",
   "id": "f0f4e21b-a231-4ea8-8814-097d292975fd",
   "metadata": {},
   "source": [
    "### Data Cleaning\n",
    "\n",
    "Already made the copy of original datafram ; copy_bikes_data\n",
    "\n",
    "Steps involved in Data cleaning\n",
    "1. Define\n",
    "2. Code\n",
    "3. Test"
   ]
  },
  {
   "cell_type": "code",
   "execution_count": 67,
   "id": "e77951fb-2876-4346-8ad4-b2c2d792e605",
   "metadata": {},
   "outputs": [],
   "source": [
    "# Dropping the duplicate records\n",
    "bikes_data.drop_duplicates(inplace=True)"
   ]
  },
  {
   "cell_type": "code",
   "execution_count": 68,
   "id": "71222e8d-d1e9-43de-8084-c08f4f206425",
   "metadata": {},
   "outputs": [
    {
     "name": "stdout",
     "output_type": "stream",
     "text": [
      "(112036, 18)\n"
     ]
    },
    {
     "data": {
      "text/html": [
       "<div>\n",
       "<style scoped>\n",
       "    .dataframe tbody tr th:only-of-type {\n",
       "        vertical-align: middle;\n",
       "    }\n",
       "\n",
       "    .dataframe tbody tr th {\n",
       "        vertical-align: top;\n",
       "    }\n",
       "\n",
       "    .dataframe thead th {\n",
       "        text-align: right;\n",
       "    }\n",
       "</style>\n",
       "<table border=\"1\" class=\"dataframe\">\n",
       "  <thead>\n",
       "    <tr style=\"text-align: right;\">\n",
       "      <th></th>\n",
       "      <th>year</th>\n",
       "      <th>Customer ID</th>\n",
       "      <th>Customer Age</th>\n",
       "      <th>Frame Size</th>\n",
       "      <th>Order Quantity</th>\n",
       "      <th>Unit Cost</th>\n",
       "      <th>Unit Price</th>\n",
       "      <th>Cost</th>\n",
       "      <th>Revenue</th>\n",
       "      <th>Profit</th>\n",
       "    </tr>\n",
       "  </thead>\n",
       "  <tbody>\n",
       "    <tr>\n",
       "      <th>count</th>\n",
       "      <td>112036.000000</td>\n",
       "      <td>112036.000000</td>\n",
       "      <td>112036.000000</td>\n",
       "      <td>25794.000000</td>\n",
       "      <td>112036.000000</td>\n",
       "      <td>112036.000000</td>\n",
       "      <td>112036.000000</td>\n",
       "      <td>112036.000000</td>\n",
       "      <td>112036.000000</td>\n",
       "      <td>112036.000000</td>\n",
       "    </tr>\n",
       "    <tr>\n",
       "      <th>mean</th>\n",
       "      <td>2014.400925</td>\n",
       "      <td>19223.313917</td>\n",
       "      <td>35.919508</td>\n",
       "      <td>47.312941</td>\n",
       "      <td>11.904254</td>\n",
       "      <td>267.819603</td>\n",
       "      <td>453.850628</td>\n",
       "      <td>471.103333</td>\n",
       "      <td>757.138527</td>\n",
       "      <td>286.035194</td>\n",
       "    </tr>\n",
       "    <tr>\n",
       "      <th>std</th>\n",
       "      <td>1.273327</td>\n",
       "      <td>5306.209041</td>\n",
       "      <td>11.016543</td>\n",
       "      <td>6.862813</td>\n",
       "      <td>9.564877</td>\n",
       "      <td>550.218722</td>\n",
       "      <td>922.751848</td>\n",
       "      <td>886.971635</td>\n",
       "      <td>1312.061623</td>\n",
       "      <td>454.852634</td>\n",
       "    </tr>\n",
       "    <tr>\n",
       "      <th>min</th>\n",
       "      <td>2011.000000</td>\n",
       "      <td>11000.000000</td>\n",
       "      <td>17.000000</td>\n",
       "      <td>38.000000</td>\n",
       "      <td>1.000000</td>\n",
       "      <td>1.000000</td>\n",
       "      <td>2.000000</td>\n",
       "      <td>1.000000</td>\n",
       "      <td>2.000000</td>\n",
       "      <td>-30.000000</td>\n",
       "    </tr>\n",
       "    <tr>\n",
       "      <th>25%</th>\n",
       "      <td>2013.000000</td>\n",
       "      <td>14608.000000</td>\n",
       "      <td>28.000000</td>\n",
       "      <td>42.000000</td>\n",
       "      <td>2.000000</td>\n",
       "      <td>2.000000</td>\n",
       "      <td>5.000000</td>\n",
       "      <td>28.000000</td>\n",
       "      <td>64.000000</td>\n",
       "      <td>29.000000</td>\n",
       "    </tr>\n",
       "    <tr>\n",
       "      <th>50%</th>\n",
       "      <td>2014.000000</td>\n",
       "      <td>18637.000000</td>\n",
       "      <td>35.000000</td>\n",
       "      <td>46.000000</td>\n",
       "      <td>10.000000</td>\n",
       "      <td>9.000000</td>\n",
       "      <td>25.000000</td>\n",
       "      <td>112.000000</td>\n",
       "      <td>226.000000</td>\n",
       "      <td>103.000000</td>\n",
       "    </tr>\n",
       "    <tr>\n",
       "      <th>75%</th>\n",
       "      <td>2016.000000</td>\n",
       "      <td>23470.000000</td>\n",
       "      <td>43.000000</td>\n",
       "      <td>52.000000</td>\n",
       "      <td>20.000000</td>\n",
       "      <td>42.000000</td>\n",
       "      <td>70.000000</td>\n",
       "      <td>442.000000</td>\n",
       "      <td>806.000000</td>\n",
       "      <td>360.000000</td>\n",
       "    </tr>\n",
       "    <tr>\n",
       "      <th>max</th>\n",
       "      <td>2016.000000</td>\n",
       "      <td>29483.000000</td>\n",
       "      <td>87.000000</td>\n",
       "      <td>62.000000</td>\n",
       "      <td>32.000000</td>\n",
       "      <td>2171.000000</td>\n",
       "      <td>3578.000000</td>\n",
       "      <td>42978.000000</td>\n",
       "      <td>58074.000000</td>\n",
       "      <td>15096.000000</td>\n",
       "    </tr>\n",
       "  </tbody>\n",
       "</table>\n",
       "</div>"
      ],
      "text/plain": [
       "                year    Customer ID   Customer Age    Frame Size  \\\n",
       "count  112036.000000  112036.000000  112036.000000  25794.000000   \n",
       "mean     2014.400925   19223.313917      35.919508     47.312941   \n",
       "std         1.273327    5306.209041      11.016543      6.862813   \n",
       "min      2011.000000   11000.000000      17.000000     38.000000   \n",
       "25%      2013.000000   14608.000000      28.000000     42.000000   \n",
       "50%      2014.000000   18637.000000      35.000000     46.000000   \n",
       "75%      2016.000000   23470.000000      43.000000     52.000000   \n",
       "max      2016.000000   29483.000000      87.000000     62.000000   \n",
       "\n",
       "       Order Quantity      Unit Cost     Unit Price           Cost  \\\n",
       "count   112036.000000  112036.000000  112036.000000  112036.000000   \n",
       "mean        11.904254     267.819603     453.850628     471.103333   \n",
       "std          9.564877     550.218722     922.751848     886.971635   \n",
       "min          1.000000       1.000000       2.000000       1.000000   \n",
       "25%          2.000000       2.000000       5.000000      28.000000   \n",
       "50%         10.000000       9.000000      25.000000     112.000000   \n",
       "75%         20.000000      42.000000      70.000000     442.000000   \n",
       "max         32.000000    2171.000000    3578.000000   42978.000000   \n",
       "\n",
       "             Revenue         Profit  \n",
       "count  112036.000000  112036.000000  \n",
       "mean      757.138527     286.035194  \n",
       "std      1312.061623     454.852634  \n",
       "min         2.000000     -30.000000  \n",
       "25%        64.000000      29.000000  \n",
       "50%       226.000000     103.000000  \n",
       "75%       806.000000     360.000000  \n",
       "max     58074.000000   15096.000000  "
      ]
     },
     "execution_count": 68,
     "metadata": {},
     "output_type": "execute_result"
    }
   ],
   "source": [
    "# Testing after duplicate drops \n",
    "print(bikes_data.shape)\n",
    "bikes_data.describe()"
   ]
  },
  {
   "cell_type": "markdown",
   "id": "b42652ae-434e-4028-a838-8a172aa5717a",
   "metadata": {},
   "source": [
    "# Define the solution for data Issue\n",
    "1. For NaN value in Frame Size keep the value as -1 mean Not Applicable \n",
    "2. Age group will split into 2 columns\n",
    "3. Columns Name space replaced by '_'\n",
    "4. Date field should be converted into datetype and make the date format consistent which is 'MM-DD-YYYY'.\n",
    "5. Duplicates value is already dropped"
   ]
  },
  {
   "cell_type": "code",
   "execution_count": 69,
   "id": "24a9d764-e3af-4dd2-bf1c-b8f3b20e6564",
   "metadata": {},
   "outputs": [
    {
     "name": "stderr",
     "output_type": "stream",
     "text": [
      "/var/folders/cq/r96cwmz1327cflkjdx9t2ky00000gp/T/ipykernel_2254/4267287279.py:2: FutureWarning: Setting an item of incompatible dtype is deprecated and will raise an error in a future version of pandas. Value '-1' has dtype incompatible with float64, please explicitly cast to a compatible dtype first.\n",
      "  bikes_data.fillna('-1',inplace=True)\n"
     ]
    }
   ],
   "source": [
    "# Fill the NaN value \n",
    "bikes_data.fillna('-1',inplace=True)"
   ]
  },
  {
   "cell_type": "code",
   "execution_count": 70,
   "id": "adba2495-7b7a-4e22-8415-bac88955b79a",
   "metadata": {},
   "outputs": [
    {
     "data": {
      "text/plain": [
       "Date                0\n",
       "year                0\n",
       "Customer ID         0\n",
       "Customer Age        0\n",
       "Age Group           0\n",
       "Customer Gender     0\n",
       "Country             0\n",
       "State               0\n",
       "Product Category    0\n",
       "Sub Category        0\n",
       "Product             0\n",
       "Frame Size          0\n",
       "Order Quantity      0\n",
       "Unit Cost           0\n",
       "Unit Price          0\n",
       "Cost                0\n",
       "Revenue             0\n",
       "Profit              0\n",
       "dtype: int64"
      ]
     },
     "execution_count": 70,
     "metadata": {},
     "output_type": "execute_result"
    }
   ],
   "source": [
    "# Test\n",
    "bikes_data.isnull().sum()"
   ]
  },
  {
   "cell_type": "markdown",
   "id": "590889bc-b85a-4b68-b3ee-9aa62e3ed84e",
   "metadata": {},
   "source": [
    "DataFrame.rename(mapper=None, *, index=None, columns=None, axis=None, copy=None, inplace=False, level=None, errors='ignore')[source]\n",
    "\n",
    "Note: Mapper will be either function or dict. No List"
   ]
  },
  {
   "cell_type": "code",
   "execution_count": 71,
   "id": "c445112a-722f-493c-8392-48dce889766a",
   "metadata": {},
   "outputs": [],
   "source": [
    "# Column Names -- issue\n",
    "bike_columns = list(bikes_data.columns.str.replace(' ',\"_\"))\n",
    "modified_columns = {}\n",
    "for i in bikes_data.columns:\n",
    "    modified_columns[i]=i.replace(' ','_').title()\n",
    "    \n",
    "    # print(i)\n",
    "modified_columns\n",
    "bikes_data.rename(columns=modified_columns,inplace=True)"
   ]
  },
  {
   "cell_type": "code",
   "execution_count": 72,
   "id": "17ec4fdd-7539-413f-ad5c-931474850e8b",
   "metadata": {},
   "outputs": [
    {
     "name": "stdout",
     "output_type": "stream",
     "text": [
      "Index(['Date', 'Year', 'Customer_Id', 'Customer_Age', 'Age_Group',\n",
      "       'Customer_Gender', 'Country', 'State', 'Product_Category',\n",
      "       'Sub_Category', 'Product', 'Frame_Size', 'Order_Quantity', 'Unit_Cost',\n",
      "       'Unit_Price', 'Cost', 'Revenue', 'Profit'],\n",
      "      dtype='object')\n"
     ]
    },
    {
     "data": {
      "text/html": [
       "<div>\n",
       "<style scoped>\n",
       "    .dataframe tbody tr th:only-of-type {\n",
       "        vertical-align: middle;\n",
       "    }\n",
       "\n",
       "    .dataframe tbody tr th {\n",
       "        vertical-align: top;\n",
       "    }\n",
       "\n",
       "    .dataframe thead th {\n",
       "        text-align: right;\n",
       "    }\n",
       "</style>\n",
       "<table border=\"1\" class=\"dataframe\">\n",
       "  <thead>\n",
       "    <tr style=\"text-align: right;\">\n",
       "      <th></th>\n",
       "      <th>Date</th>\n",
       "      <th>Year</th>\n",
       "      <th>Customer_Id</th>\n",
       "      <th>Customer_Age</th>\n",
       "      <th>Age_Group</th>\n",
       "      <th>Customer_Gender</th>\n",
       "      <th>Country</th>\n",
       "      <th>State</th>\n",
       "      <th>Product_Category</th>\n",
       "      <th>Sub_Category</th>\n",
       "      <th>Product</th>\n",
       "      <th>Frame_Size</th>\n",
       "      <th>Order_Quantity</th>\n",
       "      <th>Unit_Cost</th>\n",
       "      <th>Unit_Price</th>\n",
       "      <th>Cost</th>\n",
       "      <th>Revenue</th>\n",
       "      <th>Profit</th>\n",
       "    </tr>\n",
       "  </thead>\n",
       "  <tbody>\n",
       "    <tr>\n",
       "      <th>0</th>\n",
       "      <td>11/26/2013</td>\n",
       "      <td>2013</td>\n",
       "      <td>11019</td>\n",
       "      <td>19</td>\n",
       "      <td>Youth (&lt;25)</td>\n",
       "      <td>M</td>\n",
       "      <td>Canada</td>\n",
       "      <td>British Columbia</td>\n",
       "      <td>Accessories</td>\n",
       "      <td>Bike Racks</td>\n",
       "      <td>Hitch Rack - 4-Bike</td>\n",
       "      <td>-1</td>\n",
       "      <td>8</td>\n",
       "      <td>45</td>\n",
       "      <td>120</td>\n",
       "      <td>360</td>\n",
       "      <td>950</td>\n",
       "      <td>590</td>\n",
       "    </tr>\n",
       "    <tr>\n",
       "      <th>1</th>\n",
       "      <td>11/26/2015</td>\n",
       "      <td>2015</td>\n",
       "      <td>11019</td>\n",
       "      <td>19</td>\n",
       "      <td>Youth (&lt;25)</td>\n",
       "      <td>M</td>\n",
       "      <td>Canada</td>\n",
       "      <td>British Columbia</td>\n",
       "      <td>Accessories</td>\n",
       "      <td>Bike Racks</td>\n",
       "      <td>Hitch Rack - 4-Bike</td>\n",
       "      <td>-1</td>\n",
       "      <td>8</td>\n",
       "      <td>45</td>\n",
       "      <td>120</td>\n",
       "      <td>360</td>\n",
       "      <td>950</td>\n",
       "      <td>590</td>\n",
       "    </tr>\n",
       "    <tr>\n",
       "      <th>2</th>\n",
       "      <td>3/23/2014</td>\n",
       "      <td>2014</td>\n",
       "      <td>11039</td>\n",
       "      <td>49</td>\n",
       "      <td>Adults (35-64)</td>\n",
       "      <td>M</td>\n",
       "      <td>Australia</td>\n",
       "      <td>New South Wales</td>\n",
       "      <td>Accessories</td>\n",
       "      <td>Bike Racks</td>\n",
       "      <td>Hitch Rack - 4-Bike</td>\n",
       "      <td>-1</td>\n",
       "      <td>23</td>\n",
       "      <td>45</td>\n",
       "      <td>120</td>\n",
       "      <td>1035</td>\n",
       "      <td>2401</td>\n",
       "      <td>1366</td>\n",
       "    </tr>\n",
       "    <tr>\n",
       "      <th>3</th>\n",
       "      <td>3/23/2016</td>\n",
       "      <td>2016</td>\n",
       "      <td>11039</td>\n",
       "      <td>49</td>\n",
       "      <td>Adults (35-64)</td>\n",
       "      <td>M</td>\n",
       "      <td>Australia</td>\n",
       "      <td>New South Wales</td>\n",
       "      <td>Accessories</td>\n",
       "      <td>Bike Racks</td>\n",
       "      <td>Hitch Rack - 4-Bike</td>\n",
       "      <td>-1</td>\n",
       "      <td>20</td>\n",
       "      <td>45</td>\n",
       "      <td>120</td>\n",
       "      <td>900</td>\n",
       "      <td>2088</td>\n",
       "      <td>1188</td>\n",
       "    </tr>\n",
       "    <tr>\n",
       "      <th>4</th>\n",
       "      <td>5/15/2014</td>\n",
       "      <td>2014</td>\n",
       "      <td>11046</td>\n",
       "      <td>47</td>\n",
       "      <td>Adults (35-64)</td>\n",
       "      <td>F</td>\n",
       "      <td>Australia</td>\n",
       "      <td>New South Wales</td>\n",
       "      <td>Accessories</td>\n",
       "      <td>Bike Racks</td>\n",
       "      <td>Hitch Rack - 4-Bike</td>\n",
       "      <td>-1</td>\n",
       "      <td>4</td>\n",
       "      <td>45</td>\n",
       "      <td>120</td>\n",
       "      <td>180</td>\n",
       "      <td>418</td>\n",
       "      <td>238</td>\n",
       "    </tr>\n",
       "  </tbody>\n",
       "</table>\n",
       "</div>"
      ],
      "text/plain": [
       "         Date  Year  Customer_Id  Customer_Age       Age_Group  \\\n",
       "0  11/26/2013  2013        11019            19     Youth (<25)   \n",
       "1  11/26/2015  2015        11019            19     Youth (<25)   \n",
       "2   3/23/2014  2014        11039            49  Adults (35-64)   \n",
       "3   3/23/2016  2016        11039            49  Adults (35-64)   \n",
       "4   5/15/2014  2014        11046            47  Adults (35-64)   \n",
       "\n",
       "  Customer_Gender    Country             State Product_Category Sub_Category  \\\n",
       "0               M     Canada  British Columbia      Accessories   Bike Racks   \n",
       "1               M     Canada  British Columbia      Accessories   Bike Racks   \n",
       "2               M  Australia   New South Wales      Accessories   Bike Racks   \n",
       "3               M  Australia   New South Wales      Accessories   Bike Racks   \n",
       "4               F  Australia   New South Wales      Accessories   Bike Racks   \n",
       "\n",
       "               Product Frame_Size  Order_Quantity  Unit_Cost  Unit_Price  \\\n",
       "0  Hitch Rack - 4-Bike         -1               8         45         120   \n",
       "1  Hitch Rack - 4-Bike         -1               8         45         120   \n",
       "2  Hitch Rack - 4-Bike         -1              23         45         120   \n",
       "3  Hitch Rack - 4-Bike         -1              20         45         120   \n",
       "4  Hitch Rack - 4-Bike         -1               4         45         120   \n",
       "\n",
       "   Cost  Revenue  Profit  \n",
       "0   360      950     590  \n",
       "1   360      950     590  \n",
       "2  1035     2401    1366  \n",
       "3   900     2088    1188  \n",
       "4   180      418     238  "
      ]
     },
     "execution_count": 72,
     "metadata": {},
     "output_type": "execute_result"
    }
   ],
   "source": [
    "# Test\n",
    "print(bikes_data.columns)\n",
    "bikes_data.head()"
   ]
  },
  {
   "cell_type": "markdown",
   "id": "0bec31e0-cafb-4176-ab2d-4060e2fc641c",
   "metadata": {},
   "source": [
    "##### 2. Spliting the Age Group column into 2 columns"
   ]
  },
  {
   "cell_type": "code",
   "execution_count": 73,
   "id": "f3540922-b041-450f-935c-549a45a30304",
   "metadata": {},
   "outputs": [],
   "source": [
    "import re \n",
    "def split_age_group(x):\n",
    "    return ( re.sub('[^A-Za-z]',\"\",re.split('<|>',x)[0]) ,''.join(re.findall('[0-9]|-',x)))"
   ]
  },
  {
   "cell_type": "markdown",
   "id": "e03617c8-95ea-4c3d-b05b-ce518e135ce5",
   "metadata": {},
   "source": [
    "### CONCEPT\n",
    "The tolist() method is part of the Pandas and NumPy libraries in Python, and it is used to convert a data structure (like a Pandas Series, DataFrame, or NumPy array) to a Python list.\n",
    "##### When to Use Which:\n",
    "1. Use Pandas tolist() for converting Series or DataFrame columns.\n",
    "2. Use NumPy tolist() for converting NumPy arrays."
   ]
  },
  {
   "cell_type": "code",
   "execution_count": 74,
   "id": "03c481ad-c37b-49cf-85ac-ab65709e2a5e",
   "metadata": {},
   "outputs": [],
   "source": [
    "bikes_data[['Age_Category', 'Age_Value']] = pd.DataFrame(bikes_data['Age_Group'].apply(split_age_group).tolist(), index=bikes_data.index)"
   ]
  },
  {
   "cell_type": "code",
   "execution_count": 75,
   "id": "88313a74-546c-494d-a40b-1e15574b9fb0",
   "metadata": {},
   "outputs": [],
   "source": [
    "bikes_data.rename(columns={'Age_Value':\"Age_Range\"},inplace=True)"
   ]
  },
  {
   "cell_type": "code",
   "execution_count": 76,
   "id": "cc8a4345-469a-4a4c-8721-5f5dc836f6f4",
   "metadata": {},
   "outputs": [
    {
     "data": {
      "text/html": [
       "<div>\n",
       "<style scoped>\n",
       "    .dataframe tbody tr th:only-of-type {\n",
       "        vertical-align: middle;\n",
       "    }\n",
       "\n",
       "    .dataframe tbody tr th {\n",
       "        vertical-align: top;\n",
       "    }\n",
       "\n",
       "    .dataframe thead th {\n",
       "        text-align: right;\n",
       "    }\n",
       "</style>\n",
       "<table border=\"1\" class=\"dataframe\">\n",
       "  <thead>\n",
       "    <tr style=\"text-align: right;\">\n",
       "      <th></th>\n",
       "      <th>Date</th>\n",
       "      <th>Year</th>\n",
       "      <th>Customer_Id</th>\n",
       "      <th>Customer_Age</th>\n",
       "      <th>Age_Group</th>\n",
       "      <th>Customer_Gender</th>\n",
       "      <th>Country</th>\n",
       "      <th>State</th>\n",
       "      <th>Product_Category</th>\n",
       "      <th>Sub_Category</th>\n",
       "      <th>Product</th>\n",
       "      <th>Frame_Size</th>\n",
       "      <th>Order_Quantity</th>\n",
       "      <th>Unit_Cost</th>\n",
       "      <th>Unit_Price</th>\n",
       "      <th>Cost</th>\n",
       "      <th>Revenue</th>\n",
       "      <th>Profit</th>\n",
       "      <th>Age_Category</th>\n",
       "      <th>Age_Range</th>\n",
       "    </tr>\n",
       "  </thead>\n",
       "  <tbody>\n",
       "    <tr>\n",
       "      <th>51966</th>\n",
       "      <td>6/29/2014</td>\n",
       "      <td>2014</td>\n",
       "      <td>13515</td>\n",
       "      <td>55</td>\n",
       "      <td>Adults (35-64)</td>\n",
       "      <td>F</td>\n",
       "      <td>Germany</td>\n",
       "      <td>Hessen</td>\n",
       "      <td>Bikes</td>\n",
       "      <td>Mountain Bikes</td>\n",
       "      <td>Mountain-200 Silver, 38</td>\n",
       "      <td>38.0</td>\n",
       "      <td>1</td>\n",
       "      <td>1266</td>\n",
       "      <td>2320</td>\n",
       "      <td>1266</td>\n",
       "      <td>2158</td>\n",
       "      <td>892</td>\n",
       "      <td>Adults</td>\n",
       "      <td>35-64</td>\n",
       "    </tr>\n",
       "  </tbody>\n",
       "</table>\n",
       "</div>"
      ],
      "text/plain": [
       "            Date  Year  Customer_Id  Customer_Age       Age_Group  \\\n",
       "51966  6/29/2014  2014        13515            55  Adults (35-64)   \n",
       "\n",
       "      Customer_Gender  Country   State Product_Category    Sub_Category  \\\n",
       "51966               F  Germany  Hessen            Bikes  Mountain Bikes   \n",
       "\n",
       "                       Product Frame_Size  Order_Quantity  Unit_Cost  \\\n",
       "51966  Mountain-200 Silver, 38       38.0               1       1266   \n",
       "\n",
       "       Unit_Price  Cost  Revenue  Profit Age_Category Age_Range  \n",
       "51966        2320  1266     2158     892       Adults     35-64  "
      ]
     },
     "execution_count": 76,
     "metadata": {},
     "output_type": "execute_result"
    }
   ],
   "source": [
    "# Test\n",
    "bikes_data.sample()"
   ]
  },
  {
   "cell_type": "code",
   "execution_count": 77,
   "id": "e3c1bcfa-000c-4ac7-a55d-d11ebd48ff12",
   "metadata": {},
   "outputs": [],
   "source": [
    "# Replacing 25 with range 0-25 and 64< with 64-100\n",
    "# bikes_data['Age_Range'][bikes_data['Age_Range']=='25'].unique()\n",
    "bikes_data['Age_Range']=bikes_data['Age_Range'].replace({'25':'0-25','64':'64-100'})\n"
   ]
  },
  {
   "cell_type": "code",
   "execution_count": 78,
   "id": "4349d9cb-f3d8-44d3-a0b7-a88acc851314",
   "metadata": {},
   "outputs": [
    {
     "data": {
      "text/plain": [
       "array([], dtype=object)"
      ]
     },
     "execution_count": 78,
     "metadata": {},
     "output_type": "execute_result"
    }
   ],
   "source": [
    "#test\n",
    "bikes_data['Age_Range'][bikes_data['Age_Range']=='25'].unique()\n",
    "bikes_data['Age_Range'][bikes_data['Age_Range']=='64'].unique()"
   ]
  },
  {
   "cell_type": "markdown",
   "id": "5e130043-b796-4be3-ac54-17385166e73f",
   "metadata": {},
   "source": [
    "3. Date field assign to proper date datype"
   ]
  },
  {
   "cell_type": "code",
   "execution_count": null,
   "id": "a43da975-fc28-4433-aa7c-fb0b43f45160",
   "metadata": {},
   "outputs": [],
   "source": []
  },
  {
   "cell_type": "code",
   "execution_count": 79,
   "id": "9b39e90e-5a3e-401e-be0e-4f739cb069a6",
   "metadata": {
    "scrolled": true
   },
   "outputs": [
    {
     "name": "stdout",
     "output_type": "stream",
     "text": [
      "<class 'pandas.core.frame.DataFrame'>\n",
      "Index: 112036 entries, 0 to 113035\n",
      "Data columns (total 20 columns):\n",
      " #   Column            Non-Null Count   Dtype \n",
      "---  ------            --------------   ----- \n",
      " 0   Date              112036 non-null  object\n",
      " 1   Year              112036 non-null  int64 \n",
      " 2   Customer_Id       112036 non-null  int64 \n",
      " 3   Customer_Age      112036 non-null  int64 \n",
      " 4   Age_Group         112036 non-null  object\n",
      " 5   Customer_Gender   112036 non-null  object\n",
      " 6   Country           112036 non-null  object\n",
      " 7   State             112036 non-null  object\n",
      " 8   Product_Category  112036 non-null  object\n",
      " 9   Sub_Category      112036 non-null  object\n",
      " 10  Product           112036 non-null  object\n",
      " 11  Frame_Size        112036 non-null  object\n",
      " 12  Order_Quantity    112036 non-null  int64 \n",
      " 13  Unit_Cost         112036 non-null  int64 \n",
      " 14  Unit_Price        112036 non-null  int64 \n",
      " 15  Cost              112036 non-null  int64 \n",
      " 16  Revenue           112036 non-null  int64 \n",
      " 17  Profit            112036 non-null  int64 \n",
      " 18  Age_Category      112036 non-null  object\n",
      " 19  Age_Range         112036 non-null  object\n",
      "dtypes: int64(9), object(11)\n",
      "memory usage: 18.0+ MB\n"
     ]
    }
   ],
   "source": [
    "bikes_data.info()"
   ]
  },
  {
   "cell_type": "code",
   "execution_count": 80,
   "id": "e4e44407-9c47-4041-823f-d7afad86cb16",
   "metadata": {},
   "outputs": [],
   "source": [
    "bikes_data['Date'] = pd.to_datetime(bikes_data['Date'] )"
   ]
  },
  {
   "cell_type": "code",
   "execution_count": 81,
   "id": "4666a98b-094d-4b15-90e8-09ac02c07aa4",
   "metadata": {},
   "outputs": [],
   "source": [
    "import datetime as dt"
   ]
  },
  {
   "cell_type": "code",
   "execution_count": 82,
   "id": "8b5c8e1f-c3c0-4cd3-b9cd-c5b6d56c6e3f",
   "metadata": {},
   "outputs": [
    {
     "name": "stdout",
     "output_type": "stream",
     "text": [
      "<class 'pandas.core.frame.DataFrame'>\n",
      "Index: 112036 entries, 0 to 113035\n",
      "Data columns (total 20 columns):\n",
      " #   Column            Non-Null Count   Dtype         \n",
      "---  ------            --------------   -----         \n",
      " 0   Date              112036 non-null  datetime64[ns]\n",
      " 1   Year              112036 non-null  int64         \n",
      " 2   Customer_Id       112036 non-null  int64         \n",
      " 3   Customer_Age      112036 non-null  int64         \n",
      " 4   Age_Group         112036 non-null  object        \n",
      " 5   Customer_Gender   112036 non-null  object        \n",
      " 6   Country           112036 non-null  object        \n",
      " 7   State             112036 non-null  object        \n",
      " 8   Product_Category  112036 non-null  object        \n",
      " 9   Sub_Category      112036 non-null  object        \n",
      " 10  Product           112036 non-null  object        \n",
      " 11  Frame_Size        112036 non-null  object        \n",
      " 12  Order_Quantity    112036 non-null  int64         \n",
      " 13  Unit_Cost         112036 non-null  int64         \n",
      " 14  Unit_Price        112036 non-null  int64         \n",
      " 15  Cost              112036 non-null  int64         \n",
      " 16  Revenue           112036 non-null  int64         \n",
      " 17  Profit            112036 non-null  int64         \n",
      " 18  Age_Category      112036 non-null  object        \n",
      " 19  Age_Range         112036 non-null  object        \n",
      "dtypes: datetime64[ns](1), int64(9), object(10)\n",
      "memory usage: 18.0+ MB\n"
     ]
    }
   ],
   "source": [
    "# test\n",
    "bikes_data['Date'].dt.year.unique()\n",
    "bikes_data.info()"
   ]
  },
  {
   "cell_type": "markdown",
   "id": "c046aeda-624d-43ad-94d6-a60bd56425a2",
   "metadata": {},
   "source": [
    "### Now we have a clean data , good to go for EDA"
   ]
  },
  {
   "cell_type": "markdown",
   "id": "d9960884-3c7d-4b3b-9394-73888048b5ae",
   "metadata": {},
   "source": [
    "##### Apply few more transformation on data\n",
    "1. I replaced the ‘M’ and ‘F’ in the gender column to ‘Male’ and ‘Female’ \n",
    "\n",
    "\n"
   ]
  },
  {
   "cell_type": "code",
   "execution_count": 83,
   "id": "e441bab2-d409-4099-b1e3-ebab06437243",
   "metadata": {},
   "outputs": [
    {
     "name": "stderr",
     "output_type": "stream",
     "text": [
      "/var/folders/cq/r96cwmz1327cflkjdx9t2ky00000gp/T/ipykernel_2254/4074253915.py:2: FutureWarning: A value is trying to be set on a copy of a DataFrame or Series through chained assignment using an inplace method.\n",
      "The behavior will change in pandas 3.0. This inplace method will never work because the intermediate object on which we are setting values always behaves as a copy.\n",
      "\n",
      "For example, when doing 'df[col].method(value, inplace=True)', try using 'df.method({col: value}, inplace=True)' or df[col] = df[col].method(value) instead, to perform the operation inplace on the original object.\n",
      "\n",
      "\n",
      "  bikes_data['Customer_Gender'].replace({'F':'Female','M':'Male'},inplace=True)\n"
     ]
    }
   ],
   "source": [
    "# bikes_data['Customer_Gender'].replace('M','Male',inplace=True)\n",
    "bikes_data['Customer_Gender'].replace({'F':'Female','M':'Male'},inplace=True)"
   ]
  },
  {
   "cell_type": "code",
   "execution_count": 31,
   "id": "424207a3-a5f1-4c48-9fe4-dc58f92dc9de",
   "metadata": {},
   "outputs": [],
   "source": [
    "# bikes_data.drop(columns='Date',inplace=True)"
   ]
  },
  {
   "cell_type": "code",
   "execution_count": 32,
   "id": "62cb8033-dd5f-46fd-a19e-51617dd31c83",
   "metadata": {},
   "outputs": [
    {
     "data": {
      "text/plain": [
       "array(['0-25', '35-64', '25-34', '64-100'], dtype=object)"
      ]
     },
     "execution_count": 32,
     "metadata": {},
     "output_type": "execute_result"
    }
   ],
   "source": [
    "bikes_data['Age_Range'].unique()"
   ]
  },
  {
   "cell_type": "markdown",
   "id": "e1605651-ca03-4df2-a54e-c3edd738f48c",
   "metadata": {},
   "source": [
    "### Answering the question by Anaylsing the data"
   ]
  },
  {
   "cell_type": "markdown",
   "id": "87a99439-dcee-4000-ad28-26f78e4e2831",
   "metadata": {},
   "source": [
    "1. Age distribution of cutomers"
   ]
  },
  {
   "cell_type": "code",
   "execution_count": 125,
   "id": "0d93138f-cca5-4734-a8e9-f9c7ad1490fa",
   "metadata": {},
   "outputs": [],
   "source": [
    "age_dis = bikes_data['Age_Group'].value_counts()"
   ]
  },
  {
   "cell_type": "code",
   "execution_count": 126,
   "id": "1751b089-d45d-4c82-9bb7-2c6a9c194137",
   "metadata": {},
   "outputs": [
    {
     "data": {
      "text/plain": [
       "<Axes: title={'center': 'Age Distribution'}, ylabel='count'>"
      ]
     },
     "execution_count": 126,
     "metadata": {},
     "output_type": "execute_result"
    },
    {
     "data": {
      "image/png": "[encoded data removed]",
      "text/plain": [
       "<Figure size 640x480 with 1 Axes>"
      ]
     },
     "metadata": {},
     "output_type": "display_data"
    }
   ],
   "source": [
    "age_dis.plot(kind='pie',autopct='%.0f%%',title='Age Distribution')"
   ]
  },
  {
   "cell_type": "markdown",
   "id": "a196e828-c526-4ea5-ac7c-330e710e9bc4",
   "metadata": {},
   "source": [
    "### Age distribution of customer indicates that highest number of customer is Adults whose age is between 35-64."
   ]
  },
  {
   "cell_type": "code",
   "execution_count": null,
   "id": "98c8c3f8-5aa3-4eba-973e-57b4c50924b9",
   "metadata": {},
   "outputs": [],
   "source": []
  },
  {
   "cell_type": "code",
   "execution_count": 44,
   "id": "35995386-54ca-4995-8d33-d9a3e37ba936",
   "metadata": {},
   "outputs": [
    {
     "data": {
      "text/plain": [
       "array([2013, 2015, 2014, 2016, 2012, 2011])"
      ]
     },
     "execution_count": 44,
     "metadata": {},
     "output_type": "execute_result"
    }
   ],
   "source": [
    "# 2. Most profitable year\n",
    "bikes_data[\"Year\"].unique()"
   ]
  },
  {
   "cell_type": "code",
   "execution_count": 48,
   "id": "19f9ac25-778a-4855-93aa-424030e29047",
   "metadata": {},
   "outputs": [
    {
     "data": {
      "text/plain": [
       "Year\n",
       "2015    7497361\n",
       "Name: Profit, dtype: int64"
      ]
     },
     "execution_count": 48,
     "metadata": {},
     "output_type": "execute_result"
    }
   ],
   "source": [
    "bikes_data.groupby('Year')['Profit'].sum().sort_values(ascending=False).head(1) \n",
    "# 2015 by coding "
   ]
  },
  {
   "cell_type": "code",
   "execution_count": 55,
   "id": "766a7b01-972e-4104-9b4e-d9eb50fc30dd",
   "metadata": {},
   "outputs": [
    {
     "data": {
      "text/plain": [
       "<Axes: title={'center': 'Profit by Year'}, xlabel='Amount (Million USD)', ylabel='Year'>"
      ]
     },
     "execution_count": 55,
     "metadata": {},
     "output_type": "execute_result"
    },
    {
     "data": {
      "image/png": "[encoded data removed]",
      "text/plain": [
       "<Figure size 640x480 with 1 Axes>"
      ]
     },
     "metadata": {},
     "output_type": "display_data"
    }
   ],
   "source": [
    "# By Visualization\n",
    "bikes_data.groupby('Year')['Profit'].sum().sort_values(ascending=True).plot(kind='barh',xlabel='Amount (Million USD)',ylabel='Year',color='green',title=\"Profit by Year\")"
   ]
  },
  {
   "cell_type": "markdown",
   "id": "3238daa4-50ba-443e-9538-94076cea60d8",
   "metadata": {},
   "source": [
    "### The most profitable year for bikes sales is 2015"
   ]
  },
  {
   "cell_type": "code",
   "execution_count": 103,
   "id": "c6a9c4a3-2ba5-41de-bc65-96e656227f16",
   "metadata": {},
   "outputs": [],
   "source": [
    "# 3. Most profitable Month\n",
    "bikes_data['Month']=bikes_data['Date'].dt.month_name()"
   ]
  },
  {
   "cell_type": "code",
   "execution_count": 112,
   "id": "012d8d99-077d-4c4c-abfc-da653225d044",
   "metadata": {},
   "outputs": [
    {
     "data": {
      "text/plain": [
       "<Axes: xlabel='Month'>"
      ]
     },
     "execution_count": 112,
     "metadata": {},
     "output_type": "execute_result"
    },
    {
     "data": {
      "image/png": "[encoded data removed]",
      "text/plain": [
       "<Figure size 640x480 with 1 Axes>"
      ]
     },
     "metadata": {},
     "output_type": "display_data"
    }
   ],
   "source": [
    "bikes_data.groupby('Month')['Profit'].sum().sort_values(ascending=False).head(6).plot(kind='bar')\n",
    "# plot.bar(pf_mon)"
   ]
  },
  {
   "cell_type": "markdown",
   "id": "75baf6d4-7de1-495a-9f0d-36707dc320c2",
   "metadata": {},
   "source": [
    "### Most profitable month is December followed by June"
   ]
  },
  {
   "cell_type": "code",
   "execution_count": 119,
   "id": "ffd343b2-b155-4858-a4b3-036a8ea51e38",
   "metadata": {},
   "outputs": [
    {
     "data": {
      "text/plain": [
       "<Axes: ylabel='count'>"
      ]
     },
     "execution_count": 119,
     "metadata": {},
     "output_type": "execute_result"
    },
    {
     "data": {
      "image/png": "[encoded data removed]",
      "text/plain": [
       "<Figure size 640x480 with 1 Axes>"
      ]
     },
     "metadata": {},
     "output_type": "display_data"
    }
   ],
   "source": [
    "# 4. which Gender has the most orders?\n",
    "# bikes_data.groupby('Customer_Gender')\n",
    "bikes_data['Customer_Gender'].value_counts().plot(kind='pie',autopct='%0.0f%%',title='')"
   ]
  },
  {
   "cell_type": "markdown",
   "id": "0841289b-1199-4ffd-8c75-e756d6d63e81",
   "metadata": {},
   "source": [
    "### Above pie chart is clearly indicates that most of the bikes purchase by male but there no huge difference between male and female"
   ]
  },
  {
   "cell_type": "code",
   "execution_count": 134,
   "id": "22e4b2ac-a885-4def-a6f1-a5a06238b5a8",
   "metadata": {},
   "outputs": [
    {
     "data": {
      "text/plain": [
       "<Axes: title={'center': ' Order Quatity by Gender'}, ylabel='Order_Quantity'>"
      ]
     },
     "execution_count": 134,
     "metadata": {},
     "output_type": "execute_result"
    },
    {
     "data": {
      "image/png": "[encoded data removed]",
      "text/plain": [
       "<Figure size 640x480 with 1 Axes>"
      ]
     },
     "metadata": {},
     "output_type": "display_data"
    }
   ],
   "source": [
    "bikes_data.groupby('Customer_Gender')['Order_Quantity'].sum().plot(kind='pie',autopct='%0.0f%%',title=' Order Quatity by Gender',cmap='PuRd')"
   ]
  },
  {
   "cell_type": "code",
   "execution_count": null,
   "id": "7cd73ba3-7415-46f1-9bfa-35151b482dc1",
   "metadata": {},
   "outputs": [],
   "source": [
    "# 5. which country/state generates the highest revenue?"
   ]
  },
  {
   "cell_type": "code",
   "execution_count": 137,
   "id": "07236e46-2ae9-4206-826b-b018fd1e5df0",
   "metadata": {},
   "outputs": [
    {
     "data": {
      "text/plain": [
       "<Axes: ylabel='Country'>"
      ]
     },
     "execution_count": 137,
     "metadata": {},
     "output_type": "execute_result"
    },
    {
     "data": {
      "image/png": "[encoded data removed]",
      "text/plain": [
       "<Figure size 640x480 with 1 Axes>"
      ]
     },
     "metadata": {},
     "output_type": "display_data"
    }
   ],
   "source": [
    "bikes_data.groupby(\"Country\")[\"Revenue\"].sum().sort_values(ascending=True).plot(kind='barh')"
   ]
  },
  {
   "cell_type": "markdown",
   "id": "f0285085-ffe7-4be3-afda-cf89e8b8581b",
   "metadata": {},
   "source": [
    "### Highest Revenue is generated by United States"
   ]
  },
  {
   "cell_type": "code",
   "execution_count": null,
   "id": "039812d1-9dbe-41e2-bbb5-0975b7eef794",
   "metadata": {},
   "outputs": [],
   "source": [
    "\n",
    "6. is there any correlation between the customer’s age and revenue?\n"
   ]
  },
  {
   "cell_type": "code",
   "execution_count": 166,
   "id": "a040409f-e668-4856-a3c4-243ea0b4ea5c",
   "metadata": {},
   "outputs": [],
   "source": [
    "corr=bikes_data.select_dtypes(exclude=['datetime64[ns]','object']).corr()"
   ]
  },
  {
   "cell_type": "code",
   "execution_count": 167,
   "id": "383587d9-3a79-437e-964b-416b67a1e12f",
   "metadata": {},
   "outputs": [
    {
     "data": {
      "text/html": [
       "<div>\n",
       "<style scoped>\n",
       "    .dataframe tbody tr th:only-of-type {\n",
       "        vertical-align: middle;\n",
       "    }\n",
       "\n",
       "    .dataframe tbody tr th {\n",
       "        vertical-align: top;\n",
       "    }\n",
       "\n",
       "    .dataframe thead th {\n",
       "        text-align: right;\n",
       "    }\n",
       "</style>\n",
       "<table border=\"1\" class=\"dataframe\">\n",
       "  <thead>\n",
       "    <tr style=\"text-align: right;\">\n",
       "      <th></th>\n",
       "      <th>Year</th>\n",
       "      <th>Customer_Id</th>\n",
       "      <th>Customer_Age</th>\n",
       "      <th>Order_Quantity</th>\n",
       "      <th>Unit_Cost</th>\n",
       "      <th>Unit_Price</th>\n",
       "      <th>Cost</th>\n",
       "      <th>Revenue</th>\n",
       "      <th>Profit</th>\n",
       "    </tr>\n",
       "  </thead>\n",
       "  <tbody>\n",
       "    <tr>\n",
       "      <th>Year</th>\n",
       "      <td>1.000000</td>\n",
       "      <td>0.000325</td>\n",
       "      <td>0.040879</td>\n",
       "      <td>0.124091</td>\n",
       "      <td>-0.217431</td>\n",
       "      <td>-0.213538</td>\n",
       "      <td>-0.215449</td>\n",
       "      <td>-0.208514</td>\n",
       "      <td>-0.181349</td>\n",
       "    </tr>\n",
       "    <tr>\n",
       "      <th>Customer_Id</th>\n",
       "      <td>0.000325</td>\n",
       "      <td>1.000000</td>\n",
       "      <td>-0.036091</td>\n",
       "      <td>0.004996</td>\n",
       "      <td>-0.041055</td>\n",
       "      <td>-0.051352</td>\n",
       "      <td>-0.043855</td>\n",
       "      <td>-0.053169</td>\n",
       "      <td>-0.067853</td>\n",
       "    </tr>\n",
       "    <tr>\n",
       "      <th>Customer_Age</th>\n",
       "      <td>0.040879</td>\n",
       "      <td>-0.036091</td>\n",
       "      <td>1.000000</td>\n",
       "      <td>0.027376</td>\n",
       "      <td>-0.021401</td>\n",
       "      <td>-0.020301</td>\n",
       "      <td>-0.016012</td>\n",
       "      <td>-0.009303</td>\n",
       "      <td>0.004388</td>\n",
       "    </tr>\n",
       "    <tr>\n",
       "      <th>Order_Quantity</th>\n",
       "      <td>0.124091</td>\n",
       "      <td>0.004996</td>\n",
       "      <td>0.027376</td>\n",
       "      <td>1.000000</td>\n",
       "      <td>-0.516289</td>\n",
       "      <td>-0.516387</td>\n",
       "      <td>-0.340386</td>\n",
       "      <td>-0.312880</td>\n",
       "      <td>-0.238770</td>\n",
       "    </tr>\n",
       "    <tr>\n",
       "      <th>Unit_Cost</th>\n",
       "      <td>-0.217431</td>\n",
       "      <td>-0.041055</td>\n",
       "      <td>-0.021401</td>\n",
       "      <td>-0.516289</td>\n",
       "      <td>1.000000</td>\n",
       "      <td>0.997891</td>\n",
       "      <td>0.829557</td>\n",
       "      <td>0.817544</td>\n",
       "      <td>0.740623</td>\n",
       "    </tr>\n",
       "    <tr>\n",
       "      <th>Unit_Price</th>\n",
       "      <td>-0.213538</td>\n",
       "      <td>-0.051352</td>\n",
       "      <td>-0.020301</td>\n",
       "      <td>-0.516387</td>\n",
       "      <td>0.997891</td>\n",
       "      <td>1.000000</td>\n",
       "      <td>0.825965</td>\n",
       "      <td>0.818176</td>\n",
       "      <td>0.749450</td>\n",
       "    </tr>\n",
       "    <tr>\n",
       "      <th>Cost</th>\n",
       "      <td>-0.215449</td>\n",
       "      <td>-0.043855</td>\n",
       "      <td>-0.016012</td>\n",
       "      <td>-0.340386</td>\n",
       "      <td>0.829557</td>\n",
       "      <td>0.825965</td>\n",
       "      <td>1.000000</td>\n",
       "      <td>0.988748</td>\n",
       "      <td>0.902109</td>\n",
       "    </tr>\n",
       "    <tr>\n",
       "      <th>Revenue</th>\n",
       "      <td>-0.208514</td>\n",
       "      <td>-0.053169</td>\n",
       "      <td>-0.009303</td>\n",
       "      <td>-0.312880</td>\n",
       "      <td>0.817544</td>\n",
       "      <td>0.818176</td>\n",
       "      <td>0.988748</td>\n",
       "      <td>1.000000</td>\n",
       "      <td>0.956508</td>\n",
       "    </tr>\n",
       "    <tr>\n",
       "      <th>Profit</th>\n",
       "      <td>-0.181349</td>\n",
       "      <td>-0.067853</td>\n",
       "      <td>0.004388</td>\n",
       "      <td>-0.238770</td>\n",
       "      <td>0.740623</td>\n",
       "      <td>0.749450</td>\n",
       "      <td>0.902109</td>\n",
       "      <td>0.956508</td>\n",
       "      <td>1.000000</td>\n",
       "    </tr>\n",
       "  </tbody>\n",
       "</table>\n",
       "</div>"
      ],
      "text/plain": [
       "                    Year  Customer_Id  Customer_Age  Order_Quantity  \\\n",
       "Year            1.000000     0.000325      0.040879        0.124091   \n",
       "Customer_Id     0.000325     1.000000     -0.036091        0.004996   \n",
       "Customer_Age    0.040879    -0.036091      1.000000        0.027376   \n",
       "Order_Quantity  0.124091     0.004996      0.027376        1.000000   \n",
       "Unit_Cost      -0.217431    -0.041055     -0.021401       -0.516289   \n",
       "Unit_Price     -0.213538    -0.051352     -0.020301       -0.516387   \n",
       "Cost           -0.215449    -0.043855     -0.016012       -0.340386   \n",
       "Revenue        -0.208514    -0.053169     -0.009303       -0.312880   \n",
       "Profit         -0.181349    -0.067853      0.004388       -0.238770   \n",
       "\n",
       "                Unit_Cost  Unit_Price      Cost   Revenue    Profit  \n",
       "Year            -0.217431   -0.213538 -0.215449 -0.208514 -0.181349  \n",
       "Customer_Id     -0.041055   -0.051352 -0.043855 -0.053169 -0.067853  \n",
       "Customer_Age    -0.021401   -0.020301 -0.016012 -0.009303  0.004388  \n",
       "Order_Quantity  -0.516289   -0.516387 -0.340386 -0.312880 -0.238770  \n",
       "Unit_Cost        1.000000    0.997891  0.829557  0.817544  0.740623  \n",
       "Unit_Price       0.997891    1.000000  0.825965  0.818176  0.749450  \n",
       "Cost             0.829557    0.825965  1.000000  0.988748  0.902109  \n",
       "Revenue          0.817544    0.818176  0.988748  1.000000  0.956508  \n",
       "Profit           0.740623    0.749450  0.902109  0.956508  1.000000  "
      ]
     },
     "execution_count": 167,
     "metadata": {},
     "output_type": "execute_result"
    }
   ],
   "source": [
    "corr"
   ]
  },
  {
   "cell_type": "code",
   "execution_count": null,
   "id": "466059b7-36cf-4229-b5f3-765f3dc4b230",
   "metadata": {},
   "outputs": [],
   "source": [
    "7. which category/subcategory generates the most profit?"
   ]
  },
  {
   "cell_type": "code",
   "execution_count": 171,
   "id": "0e8f1732-9f54-4f3f-9e13-d6555fbe7b0a",
   "metadata": {},
   "outputs": [
    {
     "data": {
      "text/plain": [
       "<Axes: ylabel='Profit'>"
      ]
     },
     "execution_count": 171,
     "metadata": {},
     "output_type": "execute_result"
    },
    {
     "data": {
      "image/png": "[encoded data removed]",
      "text/plain": [
       "<Figure size 640x480 with 1 Axes>"
      ]
     },
     "metadata": {},
     "output_type": "display_data"
    }
   ],
   "source": [
    "bikes_data.groupby('Product_Category')['Profit'].sum().sort_values(ascending=False).head().plot(kind='pie')"
   ]
  },
  {
   "cell_type": "code",
   "execution_count": 172,
   "id": "d1ebfbfe-d8ab-47d5-b48f-057d9cc256e1",
   "metadata": {},
   "outputs": [
    {
     "data": {
      "text/plain": [
       "<Axes: xlabel='Sub_Category'>"
      ]
     },
     "execution_count": 172,
     "metadata": {},
     "output_type": "execute_result"
    },
    {
     "data": {
      "image/png": "[encoded data removed]",
      "text/plain": [
       "<Figure size 640x480 with 1 Axes>"
      ]
     },
     "metadata": {},
     "output_type": "display_data"
    }
   ],
   "source": [
    "bikes_data.groupby('Sub_Category')['Profit'].sum().sort_values(ascending=False).head().plot()"
   ]
  }
 ],
 "metadata": {
  "kernelspec": {
   "display_name": "Python 3 (ipykernel)",
   "language": "python",
   "name": "python3"
  },
  "language_info": {
   "codemirror_mode": {
    "name": "ipython",
    "version": 3
   },
   "file_extension": ".py",
   "mimetype": "text/x-python",
   "name": "python",
   "nbconvert_exporter": "python",
   "pygments_lexer": "ipython3",
   "version": "3.12.5"
  }
 },
 "nbformat": 4,
 "nbformat_minor": 5
}
